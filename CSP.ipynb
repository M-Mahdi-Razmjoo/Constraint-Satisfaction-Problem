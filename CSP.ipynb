{
  "cells": [
    {
   "cell_type": "markdown",
   "id": "1f92315ba2ff9b88",
   "metadata": {},
   "source": [
    "\n",
    "<br>\n",
    "<font>\n",
    "<div dir=ltr align=center>\n",
    "<img src=\"https://cdn.freebiesupply.com/logos/large/2x/sharif-logo-png-transparent.png\" width=150 height=150> <br>\n",
    "<font color=0F5298 size=7>\n",
    "Artificial Intelligence <br>\n",
    "<font color=2565AE size=5>\n",
    "Computer Engineering Department <br>\n",
    "Spring 2024<br>\n",
    "<font color=3C99D size=5>\n",
    "Practical Assignment - Constraint Satisfaction Problem <br>\n",
    "<font color=696880 size=4>\n",
    "\n",
    "\n",
    "____"
   ]
  },
    {
      "cell_type": "markdown",
      "id": "71c26e05",
      "metadata": {
        "id": "71c26e05"
      },
      "source": [
        "## Sudoku Solver : Backtracking\n",
        "Use your knowledge of the backtracking algorithm to solve the sudoku problem"
      ]
    },
    {
      "cell_type": "markdown",
      "id": "757d67f8",
      "metadata": {
        "id": "757d67f8"
      },
      "source": [
        "### Importing Libraries"
      ]
    },
    {
      "cell_type": "code",
      "execution_count": null,
      "id": "3abee16c",
      "metadata": {
        "id": "3abee16c"
      },
      "outputs": [],
      "source": [
        "import pandas as pd\n",
        "import numpy as np"
      ]
    },
    {
      "cell_type": "markdown",
      "id": "e54e9d50",
      "metadata": {
        "id": "e54e9d50"
      },
      "source": [
        "### Preprocessing\n",
        "Import the data and explore it!\n",
        "The columns you need are named quizzes and solutions\n",
        "Unsolved sudoku are in quizzes and solved ones are in solutions, use the solutions column to check whether you solve the sudoku correctly"
      ]
    },
    {
      "cell_type": "code",
      "execution_count": null,
      "id": "288620fe",
      "metadata": {
        "id": "288620fe",
        "outputId": "79328ec7-88f6-495c-9144-5c23d26a5ed6"
      },
      "outputs": [
        {
          "name": "stdout",
          "output_type": "stream",
          "text": [
            "   Unnamed: 0                                            quizzes  \\\n",
            "0           0  0043002090050090010700600430060020871900074000...   \n",
            "1           1  0401000501070039605200080000000000170009068008...   \n",
            "2           2  6001203840084590720000060050002640300700800069...   \n",
            "3           3  4972000001004000050000160986203000403009000000...   \n",
            "4           4  0059103080094030600275001000300002010008200070...   \n",
            "\n",
            "                                           solutions  \n",
            "0  8643712593258497619712658434361925871986574322...  \n",
            "1  3461792581875239645296483719658324174729168358...  \n",
            "2  6951273841384596727248369158512647392739815469...  \n",
            "3  4972583161864397252537164986293815473759641828...  \n",
            "4  4659123781894735623275681497386452919548216372...  \n"
          ]
        }
      ],
      "source": [
        "data = pd.read_csv('sudoku.csv')\n",
        "print(data.head())"
      ]
    },
    {
      "cell_type": "code",
      "execution_count": null,
      "id": "5db1c98b",
      "metadata": {
        "id": "5db1c98b",
        "outputId": "7b3a9f34-3f11-4232-de45-c598f7aee611"
      },
      "outputs": [
        {
          "name": "stdout",
          "output_type": "stream",
          "text": [
            "<class 'pandas.core.frame.DataFrame'>\n",
            "RangeIndex: 2000 entries, 0 to 1999\n",
            "Data columns (total 3 columns):\n",
            " #   Column      Non-Null Count  Dtype \n",
            "---  ------      --------------  ----- \n",
            " 0   Unnamed: 0  2000 non-null   int64 \n",
            " 1   quizzes     2000 non-null   object\n",
            " 2   solutions   2000 non-null   object\n",
            "dtypes: int64(1), object(2)\n",
            "memory usage: 47.0+ KB\n",
            "None\n"
          ]
        }
      ],
      "source": [
        "print(data.info())"
      ]
    },
    {
      "cell_type": "code",
      "execution_count": null,
      "id": "cf30d961",
      "metadata": {
        "id": "cf30d961",
        "outputId": "6e06c1a0-6a3c-435c-9b50-ebf7b4d6e0f8"
      },
      "outputs": [
        {
          "name": "stdout",
          "output_type": "stream",
          "text": [
            "        Unnamed: 0\n",
            "count  2000.000000\n",
            "mean    999.500000\n",
            "std     577.494589\n",
            "min       0.000000\n",
            "25%     499.750000\n",
            "50%     999.500000\n",
            "75%    1499.250000\n",
            "max    1999.000000\n"
          ]
        }
      ],
      "source": [
        "print(data.describe())"
      ]
    },
    {
      "cell_type": "code",
      "execution_count": null,
      "id": "15ed2196",
      "metadata": {
        "id": "15ed2196"
      },
      "outputs": [],
      "source": [
        "def gridding_array(array):\n",
        "    return np.array(list(map(int, list(array)))).reshape((9, 9)) #1D array"
      ]
    },
    {
      "cell_type": "code",
      "execution_count": null,
      "id": "4b1cde42",
      "metadata": {
        "id": "4b1cde42"
      },
      "outputs": [],
      "source": [
        "def display_grid(grid):\n",
        "    \"\"\"\n",
        "    This function prints a formatted representation of the 9x9 Sudoku grid with dividing lines.\n",
        "    \"\"\"\n",
        "    separator_row = \"+-----+-------+-----+\"\n",
        "\n",
        "    for row in range(9):\n",
        "        if row % 3 == 0:\n",
        "            print(separator_row)\n",
        "\n",
        "        row_content = []\n",
        "        for col in range(9):\n",
        "            row_content.append(str(grid[row, col]))\n",
        "            if (col + 1) % 3 == 0 and col != 8:\n",
        "                row_content.append(\"|\")\n",
        "\n",
        "        print(\" \".join(row_content))\n",
        "\n",
        "    print(separator_row)\n"
      ]
    },
    {
      "cell_type": "markdown",
      "id": "b97f14a3",
      "metadata": {
        "id": "b97f14a3"
      },
      "source": [
        "### Backtracking Algorithm\n",
        "Testing your algorithm on a sample sudoku is enough, but your code will be manually tested on multiple ones later"
      ]
    },
    {
      "cell_type": "code",
      "execution_count": null,
      "id": "fdf7889c",
      "metadata": {
        "id": "fdf7889c"
      },
      "outputs": [],
      "source": [
        "def is_empty(sudoku):\n",
        "    return np.any(sudoku == 0)"
      ]
    },
    {
      "cell_type": "code",
      "execution_count": null,
      "id": "1a244fac",
      "metadata": {
        "id": "1a244fac"
      },
      "outputs": [],
      "source": [
        "def is_placement_valid(grid, num, position):\n",
        "    row, col = position\n",
        "    if num in grid[row, :]: # Checking row\n",
        "        return False\n",
        "    if num in grid[:, col]: # Checking column\n",
        "        return False\n",
        "    box_row, box_col = row // 3 * 3, col // 3 * 3\n",
        "    if num in grid[box_row:box_row+3, box_col:box_col+3]: # Checking 3x3 box\n",
        "        return False\n",
        "    return True"
      ]
    },
    {
      "cell_type": "code",
      "execution_count": null,
      "id": "d422671e",
      "metadata": {
        "id": "d422671e"
      },
      "outputs": [],
      "source": [
        "def backtrack(sudoku):\n",
        "    if not is_empty(sudoku):\n",
        "        return True\n",
        "    for row in range(9):\n",
        "        for col in range(9):\n",
        "            if sudoku[row, col] == 0:  # Finding empty cells\n",
        "                for num in range(1, 10):  # Try 1,2,..,9\n",
        "                    if is_placement_valid(sudoku, num, (row, col)):\n",
        "                        sudoku[row, col] = num\n",
        "                        if backtrack(sudoku):\n",
        "                            return True\n",
        "                        sudoku[row, col] = 0\n",
        "                return False  # No valid number\n",
        "    return False"
      ]
    },
    {
      "cell_type": "code",
      "execution_count": null,
      "id": "c6e6cd07",
      "metadata": {
        "id": "c6e6cd07",
        "outputId": "84bec219-eaf5-4b19-908f-6e93e681e0a9"
      },
      "outputs": [
        {
          "name": "stdout",
          "output_type": "stream",
          "text": [
            "before solving:\n",
            "+-----+-------+-----+\n",
            "0 0 4 | 3 0 0 | 2 0 9\n",
            "0 0 5 | 0 0 9 | 0 0 1\n",
            "0 7 0 | 0 6 0 | 0 4 3\n",
            "+-----+-------+-----+\n",
            "0 0 6 | 0 0 2 | 0 8 7\n",
            "1 9 0 | 0 0 7 | 4 0 0\n",
            "0 5 0 | 0 8 3 | 0 0 0\n",
            "+-----+-------+-----+\n",
            "6 0 0 | 0 0 0 | 1 0 5\n",
            "0 0 3 | 5 0 8 | 6 9 0\n",
            "0 4 2 | 9 1 0 | 3 0 0\n",
            "+-----+-------+-----+\n",
            "after solving:\n",
            "+-----+-------+-----+\n",
            "8 6 4 | 3 7 1 | 2 5 9\n",
            "3 2 5 | 8 4 9 | 7 6 1\n",
            "9 7 1 | 2 6 5 | 8 4 3\n",
            "+-----+-------+-----+\n",
            "4 3 6 | 1 9 2 | 5 8 7\n",
            "1 9 8 | 6 5 7 | 4 3 2\n",
            "2 5 7 | 4 8 3 | 9 1 6\n",
            "+-----+-------+-----+\n",
            "6 8 9 | 7 3 4 | 1 2 5\n",
            "7 1 3 | 5 2 8 | 6 9 4\n",
            "5 4 2 | 9 1 6 | 3 7 8\n",
            "+-----+-------+-----+\n",
            "Correct Solution: True\n"
          ]
        }
      ],
      "source": [
        "def compare(sudoku, solution):\n",
        "    diff = sudoku - solution\n",
        "    return np.all(diff == 0)\n",
        "\n",
        "sample_sudoku = gridding_array(data['quizzes'][0])\n",
        "sample_solution = gridding_array(data['solutions'][0])\n",
        "print(\"before solving:\")\n",
        "display_grid(sample_sudoku)\n",
        "backtrack(sample_sudoku)\n",
        "print(\"after solving:\")\n",
        "display_grid(sample_sudoku)\n",
        "print(\"Correct Solution:\", compare(sample_sudoku, sample_solution))\n"
      ]
    },
    {
      "cell_type": "markdown",
      "id": "1287bb2e",
      "metadata": {
        "id": "1287bb2e"
      },
      "source": [
        "## Sudoku Solver : CP-SAT Solver\n",
        "Now we are going to explore ortools library and use it to solve the sudoku problem\n",
        "Hint: use built-in functions of this library like AddAllDifferent and CpSolver; search for more ...\n",
        "here is a useful link : https://developers.google.com/optimization/cp"
      ]
    },
    {
      "cell_type": "code",
      "execution_count": null,
      "id": "a0f7736d",
      "metadata": {
        "id": "a0f7736d"
      },
      "outputs": [],
      "source": [
        "from ortools.sat.python import cp_model\n",
        "import pandas as pd\n",
        "import numpy as np"
      ]
    },
    {
      "cell_type": "code",
      "execution_count": null,
      "id": "d59a9edf",
      "metadata": {
        "id": "d59a9edf"
      },
      "outputs": [],
      "source": [
        "def solve_sudoku(sudoku):\n",
        "    model = cp_model.CpModel()\n",
        "    cells = {}\n",
        "    for i in range(9):\n",
        "        for j in range(9):\n",
        "            cells[(i, j)] = model.NewIntVar(1, 9, f'cell_{i}_{j}')\n",
        "\n",
        "    for i in range(9): # Row constraints\n",
        "        model.AddAllDifferent([cells[(i, j)] for j in range(9)])\n",
        "\n",
        "    for j in range(9): # Column constraints\n",
        "        model.AddAllDifferent([cells[(i, j)] for i in range(9)])\n",
        "\n",
        "    # Box constraints\n",
        "    for box_row in range(3):\n",
        "        for box_col in range(3):\n",
        "            model.AddAllDifferent([cells[(box_row * 3 + i, box_col * 3 + j)] for i in range(3) for j in range(3)])\n",
        "\n",
        "    for i in range(9):\n",
        "        for j in range(9):\n",
        "            if sudoku[i, j] != 0:\n",
        "                model.Add(cells[(i, j)] == sudoku[i, j])\n",
        "\n",
        "    solver = cp_model.CpSolver()\n",
        "    status = solver.Solve(model)\n",
        "\n",
        "    if status == cp_model.FEASIBLE or status == cp_model.OPTIMAL:\n",
        "        solved_grid = np.zeros((9, 9), dtype=int)\n",
        "        for i in range(9):\n",
        "            for j in range(9):\n",
        "                solved_grid[i, j] = solver.Value(cells[(i, j)])\n",
        "        return solved_grid\n",
        "    return None\n"
      ]
    },
    {
      "cell_type": "code",
      "execution_count": null,
      "id": "9252aca5",
      "metadata": {
        "id": "9252aca5",
        "outputId": "044f7d01-c942-4e44-cb4c-dc513463c73c"
      },
      "outputs": [
        {
          "name": "stdout",
          "output_type": "stream",
          "text": [
            "+-----+-------+-----+\n",
            "8 6 4 | 3 7 1 | 2 5 9\n",
            "3 2 5 | 8 4 9 | 7 6 1\n",
            "9 7 1 | 2 6 5 | 8 4 3\n",
            "+-----+-------+-----+\n",
            "4 3 6 | 1 9 2 | 5 8 7\n",
            "1 9 8 | 6 5 7 | 4 3 2\n",
            "2 5 7 | 4 8 3 | 9 1 6\n",
            "+-----+-------+-----+\n",
            "6 8 9 | 7 3 4 | 1 2 5\n",
            "7 1 3 | 5 2 8 | 6 9 4\n",
            "5 4 2 | 9 1 6 | 3 7 8\n",
            "+-----+-------+-----+\n",
            "Correct Solution: True\n"
          ]
        }
      ],
      "source": [
        "solved_sudoku = solve_sudoku(sample_sudoku)\n",
        "display_grid(solved_sudoku)\n",
        "print(\"Correct Solution:\", compare(solved_sudoku, sample_solution))"
      ]
    },
    {
      "cell_type": "markdown",
      "id": "2bb9cb17",
      "metadata": {
        "id": "2bb9cb17"
      },
      "source": [
        "## Graph Coloring\n",
        "In this part, we are going to explore the graph coloring topic. Now we can use advanced options to speed up the process of constraint satisfaction"
      ]
    },
    {
      "cell_type": "code",
      "execution_count": null,
      "id": "46c052fa",
      "metadata": {
        "id": "46c052fa"
      },
      "outputs": [],
      "source": [
        "from itertools import combinations\n",
        "from time import time\n",
        "import numpy as np\n",
        "import copy"
      ]
    },
    {
      "cell_type": "markdown",
      "id": "5322d205",
      "metadata": {
        "id": "5322d205"
      },
      "source": [
        "### AC-3 Algorithm\n",
        "First and foremost, implement the AC-3 algorithm to be later used in the problem"
      ]
    },
    {
      "cell_type": "code",
      "execution_count": null,
      "id": "afd19bb4",
      "metadata": {
        "id": "afd19bb4"
      },
      "outputs": [],
      "source": [
        "def AC3(csp, neighbors):\n",
        "    queue = [(xi, xj) for (xi, xj) in csp['constraints'].keys()]\n",
        "    while queue:\n",
        "        (xi, xj) = queue.pop(0)\n",
        "        if revise(csp, xi, xj):\n",
        "            if len(csp['domains'][xi]) == 0:\n",
        "                return False, None\n",
        "            for xk in neighbors[xi]:\n",
        "                queue.append((xk, xi))\n",
        "    return True, csp['domains']\n",
        "\n",
        "def revise(csp, xi, xj):\n",
        "    revised = False\n",
        "    for value in csp['domains'][xi]:\n",
        "        if not any(satisfies_constraint(value, y, xi, xj, csp['constraints']) for y in csp['domains'][xj]):\n",
        "            csp['domains'][xi].remove(value)\n",
        "            revised = True\n",
        "    return revised\n",
        "\n",
        "def satisfies_constraint(xi_value, xj_value, xi, xj, constraints):\n",
        "    return (xi_value, xj_value) in constraints[(xi, xj)] #Check if the constraint between xi and xj is satisfied by the values assigned to them"
      ]
    },
    {
      "cell_type": "markdown",
      "id": "39aff8bf",
      "metadata": {
        "id": "39aff8bf"
      },
      "source": [
        "### AC-4 Algorithm\n",
        "Secondly, implement the AC-4 (Arc Consistency 4) algorithm. This algorithm enforces arc consistency by maintaining **support tables** and efficiently processing **a queue of arcs** for consistency checks. To help you implement it, here are the key steps and concepts to focus on:\n",
        "1. **Support Tables**: For each pair of variable-value assignments, you must maintain a table that tracks the number of supporting values in the neighboring variables' domains. This table will allow you to quickly determine if a value is consistent with its neighbors\n",
        "2. Start by initializing your support tables for all variable-value pairs. For each arc (X, Y), compute and store the number of values in Y's domain that support each value in X's domain based on the constraint between X and Y.\n",
        "3. Initialize **a queue of arcs** with all pairs of variables that share a constraint\n",
        "4. For each arc (X, Y) in the queue, check the support for each value in X's domain. If any value in X loses all supporting values in Y, remove that value from X’s domain.\n",
        "5. If a value is removed from X’s domain, for every neighboring variable Z (other than Y), you must add the arc (Z, X) back into the queue for further consistency checks. This ensures that removing a value from X doesn’t create inconsistencies for other variables.\n",
        "6. Whenever a value is removed from a domain, update the support tables for all neighboring variable-value pairs that depend on the removed value. This way, if a value of Z is only supported by the value that was removed from X, the support count for that value of Z should be decremented.\n",
        "7. The algorithm terminates when the queue is empty, meaning all arcs have been processed and the domains of all variables are arc-consistent. If at any point a domain becomes empty, the problem is unsolvable."
      ]
    },
    {
      "cell_type": "code",
      "execution_count": null,
      "id": "5dd661d1",
      "metadata": {
        "id": "5dd661d1"
      },
      "outputs": [],
      "source": [
        "def AC4(csp):\n",
        "    support = {xi: {value: 0 for value in csp['domains'][xi]} for xi in csp['nodes']}\n",
        "\n",
        "    for (xi, xj) in csp['constraints'].keys():\n",
        "        for value in csp['domains'][xi]:\n",
        "            if any(satisfies_constraint(value, y, xi, xj, csp['constraints']) for y in csp['domains'][xj]):\n",
        "                support[xi][value] += 1\n",
        "\n",
        "    queue = [(xi, xj) for (xi, xj) in csp['constraints'].keys()]\n",
        "    while queue:\n",
        "        (xi, xj) = queue.pop(0)\n",
        "        for value in csp['domains'][xi][:]:\n",
        "            if support[xi][value] == 0:\n",
        "                csp['domains'][xi].remove(value)\n",
        "                for xk in neighbors[xi]:\n",
        "                    if xk != xj:\n",
        "                        queue.append((xk, xi))\n",
        "                        for y in csp['domains'][xk]:\n",
        "                            if satisfies_constraint(value, y, xi, xj, csp['constraints']):\n",
        "                                support[xk][y] -= 1\n",
        "    return True, csp['domains']"
      ]
    },
    {
      "cell_type": "code",
      "execution_count": null,
      "id": "70d8b636",
      "metadata": {
        "id": "70d8b636",
        "outputId": "3458d1fc-45db-4aa7-9886-c8a5f1363de2"
      },
      "outputs": [
        {
          "name": "stdout",
          "output_type": "stream",
          "text": [
            "Domains after AC3:\n",
            " {'WA': ['R'], 'NT': ['G', 'B'], 'SA': ['G', 'B'], 'Q': ['R', 'G', 'B'], 'NSW': ['R', 'G', 'B'], 'V': ['R', 'G', 'B']}\n",
            "Time taken for AC3: 0 seconds\n",
            "Domains after AC4:\n",
            " {'WA': ['R'], 'NT': ['G', 'B'], 'SA': ['G', 'B'], 'Q': ['R', 'G', 'B'], 'NSW': ['R', 'G', 'B'], 'V': ['R', 'G', 'B']}\n",
            "Time taken for AC4: 0.0009964 seconds\n"
          ]
        }
      ],
      "source": [
        "graph = {\n",
        "    \"WA\": [\"NT\", \"SA\"],\n",
        "    \"NT\": [\"WA\", \"SA\", \"Q\"],\n",
        "    \"SA\": [\"NT\", \"WA\", \"Q\", \"NSW\", \"V\"],\n",
        "    \"Q\": [\"NT\", \"SA\", \"NSW\"],\n",
        "    \"NSW\": [\"Q\", \"SA\", \"V\"],\n",
        "    \"V\": [\"NSW\", \"SA\"]\n",
        "}\n",
        "\n",
        "nodes = [\"WA\", \"NT\", \"SA\", \"Q\", \"NSW\", \"V\"]\n",
        "domains = {}\n",
        "\n",
        "for node in nodes:\n",
        "    if node == \"WA\":\n",
        "        domains[node] = [\"R\"]\n",
        "    else:\n",
        "        domains[node] = [\"R\", \"G\", \"B\"]\n",
        "\n",
        "constraint = [(x, y) for x in [\"R\", \"G\", \"B\"] for y in [\"R\", \"G\", \"B\"] if x != y]\n",
        "constraints = {}\n",
        "\n",
        "for node in graph.keys():\n",
        "    for neighbor in graph[node]:\n",
        "        constraints[(node, neighbor)] = constraint\n",
        "\n",
        "csp = {\n",
        "    \"nodes\": nodes,\n",
        "    \"domains\": domains,\n",
        "    \"constraints\": constraints\n",
        "}\n",
        "\n",
        "#AC3\n",
        "start = time()\n",
        "is_consistent_ac3, reduced_domains_ac3 = AC3(csp, graph)\n",
        "s_ac3 = time() - start\n",
        "if is_consistent_ac3:\n",
        "    print(\"Domains after AC3:\\n\", reduced_domains_ac3)\n",
        "else:\n",
        "    print(\"Inconsistent!\")\n",
        "\n",
        "print(\"Time taken for AC3: %.4g seconds\" % s_ac3)\n",
        "\n",
        "#AC4\n",
        "start = time()\n",
        "is_consistent_ac4, reduced_domains_ac4 = AC4(csp)\n",
        "s_ac4 = time() - start\n",
        "if is_consistent_ac4:\n",
        "    print(\"Domains after AC4:\\n\", reduced_domains_ac4)\n",
        "else:\n",
        "    print(\"Inconsistent!\")\n",
        "\n",
        "print(\"Time taken for AC4: %.4g seconds\" % s_ac4)"
      ]
    },
    {
      "cell_type": "markdown",
      "id": "f62ac009",
      "metadata": {
        "id": "f62ac009"
      },
      "source": [
        "### Conclusion\n",
        "Explain the differences between these two algorithms in terms of time and space complexity. Which one do you prefer to use?\n",
        "\n",
        "**Your answer**:\n",
        "\n",
        "Time Complexity : The worst-case time complexity of $AC-3$ is $O(ed^3)$ and for $AC-4$ is $O(ed^2)$, where e is the number of edges (constraints) in the constraint graph and d is the maximum size of the domain of any variable. $AC-4$ is more efficient than $AC-3$ in that it typically avoids re-checking previously validated values by maintaining a table of allowed values for each variable.\n",
        "\n",
        "Space Complexity : The space complexity of $AC-3$ is $O(e + d)$ and for $AC-4$ is $O(d^2 + e)$. $AC-3$ primarily uses a queue to keep track of the arcs to be checked, which can grow based on the number of constraints. $AC-4$ may require more space to store information about allowed pairs but can be more efficient in terms of runtime due to reduced re-checking of values.\n",
        "\n",
        "Then, $AC-4$ is generally more efficient in terms of time complexity, especially in cases where the domain sizes are large. However, it has a higher space requirement due to the need for maintaining additional data structures. The choice between $AC-3$ and $AC-4$ may depend on the specific constraints and size of the problem being addressed, as well as the available memory resources.\n"
      ]
    },
    {
      "cell_type": "markdown",
      "id": "3038d213",
      "metadata": {
        "id": "3038d213"
      },
      "source": [
        "## Backtracking + AC-3 and AC-4 algorithm\n",
        "Now we are going to utilize the implemented algorithms to speed up the backtracking process, use both of the above algorithms, you must run ac3 and ac4 algorithms seperately."
      ]
    },
    {
      "cell_type": "code",
      "execution_count": null,
      "id": "3270bf98",
      "metadata": {
        "id": "3270bf98",
        "outputId": "b7e56383-1f29-45ed-f6e5-08e659bc8a08"
      },
      "outputs": [
        {
          "name": "stdout",
          "output_type": "stream",
          "text": [
            "\n",
            "Backtracking + AC3 algorithm: \n",
            "\n",
            "Solution found: {'WA': 'R', 'NT': 'G', 'SA': 'B', 'Q': 'R', 'NSW': 'G', 'V': 'R'}\n",
            "Solution retrieved in: 0.001942 seconds\n",
            "\n",
            "Backtracking + AC4 algorithm:\n",
            "\n",
            "Solution found: {'WA': 'R', 'NT': 'G', 'SA': 'B', 'Q': 'R', 'NSW': 'G', 'V': 'R'}\n",
            "Solution retrieved in: 0.0009968 seconds\n"
          ]
        }
      ],
      "source": [
        "def is_consistent(var, value, assignment, csp, neighbors):\n",
        "    for neighbor in neighbors[var]: #checking consistency\n",
        "        if neighbor in assignment and not satisfies_constraint(value, assignment[neighbor], var, neighbor, csp['constraints']):\n",
        "            return False\n",
        "    return True\n",
        "\n",
        "def select_unassigned_variable(assignment, domains): #MRV\n",
        "    unassigned = [v for v in domains.keys() if v not in assignment]\n",
        "    return min(unassigned, key=lambda var: len(domains[var]))\n",
        "\n",
        "def backtracking_search(csp, neighbors, ac3):\n",
        "    assignment = {}\n",
        "\n",
        "    def backtrack():\n",
        "        if len(assignment) == len(csp['nodes']):\n",
        "            return assignment\n",
        "\n",
        "        var = select_unassigned_variable(assignment, csp['domains'])\n",
        "        for value in csp['domains'][var]:\n",
        "            if is_consistent(var, value, assignment, csp, neighbors):\n",
        "                assignment[var] = value\n",
        "                backup_domains = {v: csp['domains'][v][:] for v in csp['nodes']}\n",
        "                if ac3:\n",
        "                    _, reduced_domains = AC3(csp, neighbors)\n",
        "                else:\n",
        "                    _, reduced_domains = AC4(csp)\n",
        "\n",
        "                if reduced_domains[var] and backtrack():\n",
        "                    return assignment\n",
        "                csp['domains'] = backup_domains\n",
        "                del assignment[var]\n",
        "        return None\n",
        "\n",
        "    return backtrack()\n",
        "\n",
        "\n",
        "csp = {\n",
        "    \"nodes\": nodes,\n",
        "    \"domains\": domains,\n",
        "    \"constraints\": constraints\n",
        "}\n",
        "\n",
        "#AC3:\n",
        "print(\"\\nBacktracking + AC3 algorithm: \\n\")\n",
        "start = time()\n",
        "solution = backtracking_search(csp, graph, True)\n",
        "s = time() - start\n",
        "if solution:\n",
        "    print(\"Solution found:\", solution)\n",
        "else:\n",
        "    print(\"No solution found!\")\n",
        "print(\"Solution retrieved in: %.4g seconds\" % s)\n",
        "\n",
        "\n",
        "#AC4:\n",
        "print(\"\\nBacktracking + AC4 algorithm:\\n\")\n",
        "start = time()\n",
        "solution = backtracking_search(csp, graph, False)\n",
        "s = time() - start\n",
        "if solution:\n",
        "    print(\"Solution found:\", solution)\n",
        "else:\n",
        "    print(\"No solution found!\")\n",
        "print(\"Solution retrieved in: %.4g seconds\" % s)"
      ]
    }
  ],
  "metadata": {
    "kernelspec": {
      "display_name": "Python 3",
      "language": "python",
      "name": "python3"
    },
    "language_info": {
      "codemirror_mode": {
        "name": "ipython",
        "version": 3
      },
      "file_extension": ".py",
      "mimetype": "text/x-python",
      "name": "python",
      "nbconvert_exporter": "python",
      "pygments_lexer": "ipython3",
      "version": "3.12.6"
    },
    "colab": {
      "provenance": []
    }
  },
  "nbformat": 4,
  "nbformat_minor": 5
}
